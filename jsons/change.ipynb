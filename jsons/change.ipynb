{
 "cells": [
  {
   "cell_type": "code",
   "execution_count": 2,
   "id": "a2e3ff1d",
   "metadata": {},
   "outputs": [
    {
     "name": "stdout",
     "output_type": "stream",
     "text": [
      "Converted 1927 entries to snack/test_snack_yesno.jsonl\n"
     ]
    }
   ],
   "source": [
    "import json\n",
    "\n",
    "# 入力ファイル（あなたの元データ）のパス\n",
    "INPUT_JSON = \"snack/test_snack_yesno.json\"\n",
    "# 出力ファイル（LLaVA OneVision 用 JSONL）のパス\n",
    "OUTPUT_JSONL = \"snack/test_snack_yesno.jsonl\"\n",
    "\n",
    "def convert_entry(entry):\n",
    "    \"\"\"\n",
    "    元の entry を LLaVA OneVision 用フォーマットに変換する。\n",
    "    \"\"\"\n",
    "    return {\n",
    "        # サンプル識別子として id を source に\n",
    "        \"source\": entry[\"id\"],\n",
    "        # 画像はリストに入れる\n",
    "        \"images\": [entry[\"image\"]],\n",
    "        # 動画は今回は使わないので空リスト\n",
    "        \"videos\": [],\n",
    "        # system_prompt は未使用なので None\n",
    "        \"system_prompt\": None,\n",
    "        # 会話テキストをユーザ→アシスタントの順で並べたリストに\n",
    "        \"conversations\": [\n",
    "            entry[\"conversations\"][0][\"value\"],\n",
    "            entry[\"conversations\"][1][\"value\"],\n",
    "        ]\n",
    "    }\n",
    "\n",
    "def main():\n",
    "    # 元データを読み込む\n",
    "    with open(INPUT_JSON, \"r\", encoding=\"utf-8\") as f:\n",
    "        data = json.load(f)\n",
    "\n",
    "    # JSONL に書き出す\n",
    "    with open(OUTPUT_JSONL, \"w\", encoding=\"utf-8\") as fout:\n",
    "        for entry in data:\n",
    "            new_entry = convert_entry(entry)\n",
    "            fout.write(json.dumps(new_entry, ensure_ascii=False) + \"\\n\")\n",
    "\n",
    "    print(f\"Converted {len(data)} entries to {OUTPUT_JSONL}\")\n",
    "\n",
    "if __name__ == \"__main__\":\n",
    "    main()\n"
   ]
  },
  {
   "cell_type": "markdown",
   "id": "c51ac02d",
   "metadata": {},
   "source": [
    "llava one visonようにtestを変換"
   ]
  },
  {
   "cell_type": "code",
   "execution_count": null,
   "id": "3b855475",
   "metadata": {},
   "outputs": [],
   "source": [
    "import json\n",
    "\n",
    "def transform(input_path: str, output_path: str):\n",
    "    # 1. JSON を読み込む\n",
    "    with open(input_path, 'r', encoding='utf-8') as f:\n",
    "        data = json.load(f)\n",
    "\n",
    "    result = []\n",
    "    for full_key, entry in data.items():\n",
    "        # 2. \"test/\" プレフィックスを除去して、id と image に使う相対パスを得る\n",
    "        rel_path = full_key.split('test/', 1)[-1]\n",
    "\n",
    "        # 3. カテゴリ名はパスの最初の要素\n",
    "        category = rel_path.split('/', 1)[0]\n",
    "\n",
    "        # 4. bboxes の中に座標リストが空でない要素があれば \"1\"，なければ \"0\"\n",
    "        has_bbox = any(box.get('bbox') for box in entry.get('bboxes', []))\n",
    "        gpt_value = \"1\" if has_bbox else \"0\"\n",
    "\n",
    "        # 5. human のプロンプト\n",
    "        human_value = (\n",
    "            \"<image>\\n\"\n",
    "            f\"This is an image of {category}. \"\n",
    "            f\"Does this {category} in the image have any defects?\"\n",
    "        )\n",
    "\n",
    "        # 6. 結果オブジェクトを組み立て\n",
    "        obj = {\n",
    "            \"id\": rel_path,\n",
    "            \"image\": rel_path,\n",
    "            \"conversations\": [\n",
    "                {\"from\": \"human\", \"value\": human_value},\n",
    "                {\"from\": \"gpt\",   \"value\": gpt_value}\n",
    "            ]\n",
    "        }\n",
    "        result.append(obj)\n",
    "\n",
    "    # 7. 新しい JSON を書き出す\n",
    "    with open(output_path, 'w', encoding='utf-8') as f:\n",
    "        json.dump(result, f, ensure_ascii=False, indent=4)\n",
    "\n",
    "\n",
    "if __name__ == '__main__':\n",
    "    # 実際に変換したいファイル名を指定してください\n",
    "    transform('input.json', 'output.json')\n"
   ]
  },
  {
   "cell_type": "markdown",
   "id": "1ad06d30",
   "metadata": {},
   "source": [
    "プロンプトを固定"
   ]
  },
  {
   "cell_type": "markdown",
   "id": "333ac37c",
   "metadata": {},
   "source": [
    "Please answer yes or noは必要かどうか比較したい"
   ]
  },
  {
   "cell_type": "code",
   "execution_count": 2,
   "id": "943007c2",
   "metadata": {},
   "outputs": [],
   "source": [
    "#プロンプトを固定\n",
    "import json\n",
    "\n",
    "# 入出力ファイル名を適宜書き換えてください\n",
    "input_path = \"/home/okada/vlm/lmms-finetune/jsons/test0_finetune_data_onevision.jsonl\"\n",
    "output_path = \"test0_yesno.jsonl\"\n",
    "\n",
    "# 固定プロンプト\n",
    "fixed_prompt = \"<image>\\nIs this wood grain visually appealing to you? Answer with yes or no.\"\n",
    "\n",
    "with open(input_path, \"r\", encoding=\"utf-8\") as infile, open(output_path, \"w\", encoding=\"utf-8\") as outfile:\n",
    "    for line in infile:\n",
    "        data = json.loads(line)\n",
    "        # プロンプトの固定\n",
    "        if \"conversations\" in data and isinstance(data[\"conversations\"], list) and len(data[\"conversations\"]) >= 2:\n",
    "            data[\"conversations\"][0] = fixed_prompt\n",
    "\n",
    "            # 応答を \"0\" または \"1\" に変換（Yes → 0, No → 1）\n",
    "            answer = data[\"conversations\"][1].strip().lower()\n",
    "            if answer.startswith(\"yes\"):\n",
    "                data[\"conversations\"][1] = \"0\"\n",
    "            elif answer.startswith(\"no\"):\n",
    "                data[\"conversations\"][1] = \"1\"\n",
    "\n",
    "        outfile.write(json.dumps(data, ensure_ascii=False) + \"\\n\")\n",
    "\n"
   ]
  },
  {
   "cell_type": "markdown",
   "id": "fb84591d",
   "metadata": {},
   "source": [
    "データシャッフル"
   ]
  },
  {
   "cell_type": "code",
   "execution_count": 3,
   "id": "33005708",
   "metadata": {},
   "outputs": [],
   "source": [
    "import json\n",
    "import random\n",
    "\n",
    "with open(\"train0_yesno.jsonl\", \"r\", encoding=\"utf-8\") as f:\n",
    "    lines = f.readlines()\n",
    "\n",
    "random.shuffle(lines)  # ランダムに並べ替え\n",
    "\n",
    "with open(\"train0_yesno_random.jsonl\", \"w\", encoding=\"utf-8\") as f:\n",
    "    for line in lines:\n",
    "        f.write(line)"
   ]
  }
 ],
 "metadata": {
  "kernelspec": {
   "display_name": "snack",
   "language": "python",
   "name": "python3"
  },
  "language_info": {
   "codemirror_mode": {
    "name": "ipython",
    "version": 3
   },
   "file_extension": ".py",
   "mimetype": "text/x-python",
   "name": "python",
   "nbconvert_exporter": "python",
   "pygments_lexer": "ipython3",
   "version": "3.10.15"
  }
 },
 "nbformat": 4,
 "nbformat_minor": 5
}
