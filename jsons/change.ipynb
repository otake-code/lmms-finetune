{
 "cells": [
  {
   "cell_type": "code",
   "execution_count": 2,
   "id": "a2e3ff1d",
   "metadata": {},
   "outputs": [
    {
     "name": "stdout",
     "output_type": "stream",
     "text": [
      "Converted 33 entries to test0_finetune_data_onevision.jsonl\n"
     ]
    }
   ],
   "source": [
    "import json\n",
    "\n",
    "# 入力ファイル（あなたの元データ）のパス\n",
    "INPUT_JSON = \"test0_finetune_data_oneqa.json\"\n",
    "# 出力ファイル（LLaVA OneVision 用 JSONL）のパス\n",
    "OUTPUT_JSONL = \"test0_finetune_data_onevision.jsonl\"\n",
    "\n",
    "def convert_entry(entry):\n",
    "    \"\"\"\n",
    "    元の entry を LLaVA OneVision 用フォーマットに変換する。\n",
    "    \"\"\"\n",
    "    return {\n",
    "        # サンプル識別子として id を source に\n",
    "        \"source\": entry[\"id\"],\n",
    "        # 画像はリストに入れる\n",
    "        \"images\": [entry[\"image\"]],\n",
    "        # 動画は今回は使わないので空リスト\n",
    "        \"videos\": [],\n",
    "        # system_prompt は未使用なので None\n",
    "        \"system_prompt\": None,\n",
    "        # 会話テキストをユーザ→アシスタントの順で並べたリストに\n",
    "        \"conversations\": [\n",
    "            entry[\"conversations\"][0][\"value\"],\n",
    "            entry[\"conversations\"][1][\"value\"],\n",
    "        ]\n",
    "    }\n",
    "\n",
    "def main():\n",
    "    # 元データを読み込む\n",
    "    with open(INPUT_JSON, \"r\", encoding=\"utf-8\") as f:\n",
    "        data = json.load(f)\n",
    "\n",
    "    # JSONL に書き出す\n",
    "    with open(OUTPUT_JSONL, \"w\", encoding=\"utf-8\") as fout:\n",
    "        for entry in data:\n",
    "            new_entry = convert_entry(entry)\n",
    "            fout.write(json.dumps(new_entry, ensure_ascii=False) + \"\\n\")\n",
    "\n",
    "    print(f\"Converted {len(data)} entries to {OUTPUT_JSONL}\")\n",
    "\n",
    "if __name__ == \"__main__\":\n",
    "    main()\n"
   ]
  }
 ],
 "metadata": {
  "kernelspec": {
   "display_name": "snack",
   "language": "python",
   "name": "python3"
  },
  "language_info": {
   "codemirror_mode": {
    "name": "ipython",
    "version": 3
   },
   "file_extension": ".py",
   "mimetype": "text/x-python",
   "name": "python",
   "nbconvert_exporter": "python",
   "pygments_lexer": "ipython3",
   "version": "3.10.15"
  }
 },
 "nbformat": 4,
 "nbformat_minor": 5
}
