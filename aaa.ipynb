{
 "cells": [
  {
   "cell_type": "code",
   "execution_count": null,
   "id": "17ab93ba",
   "metadata": {},
   "outputs": [
    {
     "ename": "FileNotFoundError",
     "evalue": "[Errno 2] No such file or directory: '/data_ssd/GUAD/guad_for_llava-onevision.json'",
     "output_type": "error",
     "traceback": [
      "\u001b[0;31m---------------------------------------------------------------------------\u001b[0m",
      "\u001b[0;31mFileNotFoundError\u001b[0m                         Traceback (most recent call last)",
      "Cell \u001b[0;32mIn[5], line 7\u001b[0m\n\u001b[1;32m      4\u001b[0m json_path \u001b[38;5;241m=\u001b[39m \u001b[38;5;124m\"\u001b[39m\u001b[38;5;124m/data_ssd/GUAD/guad_for_llava-onevision.json\u001b[39m\u001b[38;5;124m\"\u001b[39m\n\u001b[1;32m      6\u001b[0m \u001b[38;5;66;03m# ロード\u001b[39;00m\n\u001b[0;32m----> 7\u001b[0m \u001b[38;5;28;01mwith\u001b[39;00m \u001b[38;5;28;43mopen\u001b[39;49m\u001b[43m(\u001b[49m\u001b[43mjson_path\u001b[49m\u001b[43m,\u001b[49m\u001b[43m \u001b[49m\u001b[38;5;124;43m\"\u001b[39;49m\u001b[38;5;124;43mr\u001b[39;49m\u001b[38;5;124;43m\"\u001b[39;49m\u001b[43m)\u001b[49m \u001b[38;5;28;01mas\u001b[39;00m f:\n\u001b[1;32m      8\u001b[0m     data \u001b[38;5;241m=\u001b[39m json\u001b[38;5;241m.\u001b[39mload(f)\n\u001b[1;32m     10\u001b[0m \u001b[38;5;66;03m# 全体件数\u001b[39;00m\n",
      "File \u001b[0;32m~/.conda/envs/snack/lib/python3.10/site-packages/IPython/core/interactiveshell.py:324\u001b[0m, in \u001b[0;36m_modified_open\u001b[0;34m(file, *args, **kwargs)\u001b[0m\n\u001b[1;32m    317\u001b[0m \u001b[38;5;28;01mif\u001b[39;00m file \u001b[38;5;129;01min\u001b[39;00m {\u001b[38;5;241m0\u001b[39m, \u001b[38;5;241m1\u001b[39m, \u001b[38;5;241m2\u001b[39m}:\n\u001b[1;32m    318\u001b[0m     \u001b[38;5;28;01mraise\u001b[39;00m \u001b[38;5;167;01mValueError\u001b[39;00m(\n\u001b[1;32m    319\u001b[0m         \u001b[38;5;124mf\u001b[39m\u001b[38;5;124m\"\u001b[39m\u001b[38;5;124mIPython won\u001b[39m\u001b[38;5;124m'\u001b[39m\u001b[38;5;124mt let you open fd=\u001b[39m\u001b[38;5;132;01m{\u001b[39;00mfile\u001b[38;5;132;01m}\u001b[39;00m\u001b[38;5;124m by default \u001b[39m\u001b[38;5;124m\"\u001b[39m\n\u001b[1;32m    320\u001b[0m         \u001b[38;5;124m\"\u001b[39m\u001b[38;5;124mas it is likely to crash IPython. If you know what you are doing, \u001b[39m\u001b[38;5;124m\"\u001b[39m\n\u001b[1;32m    321\u001b[0m         \u001b[38;5;124m\"\u001b[39m\u001b[38;5;124myou can use builtins\u001b[39m\u001b[38;5;124m'\u001b[39m\u001b[38;5;124m open.\u001b[39m\u001b[38;5;124m\"\u001b[39m\n\u001b[1;32m    322\u001b[0m     )\n\u001b[0;32m--> 324\u001b[0m \u001b[38;5;28;01mreturn\u001b[39;00m \u001b[43mio_open\u001b[49m\u001b[43m(\u001b[49m\u001b[43mfile\u001b[49m\u001b[43m,\u001b[49m\u001b[43m \u001b[49m\u001b[38;5;241;43m*\u001b[39;49m\u001b[43margs\u001b[49m\u001b[43m,\u001b[49m\u001b[43m \u001b[49m\u001b[38;5;241;43m*\u001b[39;49m\u001b[38;5;241;43m*\u001b[39;49m\u001b[43mkwargs\u001b[49m\u001b[43m)\u001b[49m\n",
      "\u001b[0;31mFileNotFoundError\u001b[0m: [Errno 2] No such file or directory: '/data_ssd/GUAD/guad_for_llava-onevision.json'"
     ]
    }
   ],
   "source": [
    "import json\n",
    "\n",
    "# JSONファイルパスを指定\n",
    "json_path = \"/home/okada/vlm/lmms-finetune/jsons/train0_yesno_word.json\"\n",
    "\n",
    "# ロード\n",
    "with open(json_path, \"r\") as f:\n",
    "    data = json.load(f)\n",
    "\n",
    "# 全体件数\n",
    "total = len(data)\n",
    "\n",
    "# マルチモーダル（画像あり）件数\n",
    "multimodal = [d for d in data if \"image\" in d and d[\"image\"]]\n",
    "num_multimodal = len(multimodal)\n",
    "\n",
    "# 比率表示\n",
    "print(f\"全体件数: {total}\")\n",
    "print(f\"画像ありのマルチモーダル件数: {num_multimodal}\")\n",
    "print(f\"マルチモーダル率: {num_multimodal / total:.2%}\")\n"
   ]
  },
  {
   "cell_type": "code",
   "execution_count": 2,
   "id": "1a8c1a25",
   "metadata": {},
   "outputs": [
    {
     "name": "stdout",
     "output_type": "stream",
     "text": [
      "{'conversations': [{'from': 'human',\n",
      "                    'value': '<image>\\n'\n",
      "                             'Is this wood grain visually appealing to you? '\n",
      "                             'Answer with yes or no.'},\n",
      "                   {'from': 'gpt', 'value': 'no'}],\n",
      " 'images': ['resize256_grain_dataset_208/136_img20210825_09155445.png'],\n",
      " 'source': '0',\n",
      " 'system_prompt': None,\n",
      " 'videos': []}\n"
     ]
    }
   ],
   "source": [
    "# 最初の1件表示\n",
    "import pprint\n",
    "pprint.pprint(data[0])"
   ]
  },
  {
   "cell_type": "code",
   "execution_count": 3,
   "id": "7c9557f9",
   "metadata": {},
   "outputs": [
    {
     "name": "stdout",
     "output_type": "stream",
     "text": [
      "全体件数: 97\n",
      "画像ありのマルチモーダル件数: 97\n",
      "マルチモーダル率: 100.00%\n"
     ]
    }
   ],
   "source": [
    "import json\n",
    "\n",
    "json_path = \"/home/okada/vlm/lmms-finetune/jsons/train0_yesno_word.json\"\n",
    "\n",
    "with open(json_path, \"r\") as f:\n",
    "    data = json.load(f)\n",
    "\n",
    "# \"images\"キーが存在し、かつ空でないものだけを抽出\n",
    "multimodal = [d for d in data if \"images\" in d and isinstance(d[\"images\"], list) and len(d[\"images\"]) > 0]\n",
    "\n",
    "print(f\"全体件数: {len(data)}\")\n",
    "print(f\"画像ありのマルチモーダル件数: {len(multimodal)}\")\n",
    "print(f\"マルチモーダル率: {len(multimodal) / len(data):.2%}\")\n",
    "\n",
    "# フィルタ済みJSONとして保存（必要なら）\n",
    "with open(\"train0_yesno_word_filtered.json\", \"w\") as f:\n",
    "    json.dump(multimodal, f, indent=2)\n"
   ]
  },
  {
   "cell_type": "code",
   "execution_count": 4,
   "id": "1c5e5ad8",
   "metadata": {},
   "outputs": [
    {
     "name": "stdout",
     "output_type": "stream",
     "text": [
      "画像総数: 97\n",
      "見つからない画像数: 0\n",
      "すべての画像ファイルが存在しています ✅\n"
     ]
    }
   ],
   "source": [
    "import json\n",
    "import os\n",
    "\n",
    "json_path = \"/home/okada/vlm/lmms-finetune/jsons/train0_yesno_word.json\"\n",
    "image_root = \"/home/okada/llama3_feature/grain_dataset\"\n",
    "\n",
    "with open(json_path, \"r\") as f:\n",
    "    data = json.load(f)\n",
    "\n",
    "missing = []\n",
    "\n",
    "for d in data:\n",
    "    image_paths = d.get(\"images\", [])\n",
    "    for img in image_paths:\n",
    "        full_path = os.path.join(image_root, img)\n",
    "        if not os.path.exists(full_path):\n",
    "            missing.append(full_path)\n",
    "\n",
    "print(f\"画像総数: {sum(len(d['images']) for d in data)}\")\n",
    "print(f\"見つからない画像数: {len(missing)}\")\n",
    "\n",
    "if missing:\n",
    "    print(\"存在しない画像パスの例:\")\n",
    "    for path in missing[:5]:\n",
    "        print(\"  -\", path)\n",
    "else:\n",
    "    print(\"すべての画像ファイルが存在しています ✅\")\n"
   ]
  },
  {
   "cell_type": "markdown",
   "id": "1579da9a",
   "metadata": {},
   "source": [
    "images→image"
   ]
  },
  {
   "cell_type": "code",
   "execution_count": 1,
   "id": "05dc9fba",
   "metadata": {},
   "outputs": [
    {
     "name": "stdout",
     "output_type": "stream",
     "text": [
      "✅ 修正済みデータを保存しました: /home/okada/vlm/lmms-finetune/jsons/test0_yesno_word.json\n"
     ]
    }
   ],
   "source": [
    "import json\n",
    "\n",
    "path = \"/home/okada/vlm/lmms-finetune/jsons/test0_yesno_word.json\"\n",
    "output = \"/home/okada/vlm/lmms-finetune/jsons/test0_yesno_word.json\"\n",
    "\n",
    "with open(path) as f:\n",
    "    data = json.load(f)\n",
    "\n",
    "for d in data:\n",
    "    if isinstance(d.get(\"image\"), list) and len(d[\"image\"]) > 0:\n",
    "        d[\"image\"] = d[\"image\"][0]\n",
    "\n",
    "with open(output, \"w\") as f:\n",
    "    json.dump(data, f, indent=2)\n",
    "\n",
    "print(f\"✅ 修正済みデータを保存しました: {output}\")\n"
   ]
  }
 ],
 "metadata": {
  "kernelspec": {
   "display_name": "Python 3",
   "language": "python",
   "name": "python3"
  },
  "language_info": {
   "codemirror_mode": {
    "name": "ipython",
    "version": 3
   },
   "file_extension": ".py",
   "mimetype": "text/x-python",
   "name": "python",
   "nbconvert_exporter": "python",
   "pygments_lexer": "ipython3",
   "version": "3.10.15"
  }
 },
 "nbformat": 4,
 "nbformat_minor": 5
}
